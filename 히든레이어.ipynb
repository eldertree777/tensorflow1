{
  "nbformat": 4,
  "nbformat_minor": 0,
  "metadata": {
    "colab": {
      "name": "히든레이어.ipynb",
      "provenance": [],
      "collapsed_sections": [],
      "authorship_tag": "ABX9TyMGAiJbKjAVkAecmQiQBrjE",
      "include_colab_link": true
    },
    "kernelspec": {
      "name": "python3",
      "display_name": "Python 3"
    }
  },
  "cells": [
    {
      "cell_type": "markdown",
      "metadata": {
        "id": "view-in-github",
        "colab_type": "text"
      },
      "source": [
        "<a href=\"https://colab.research.google.com/github/eldertree777/tensorflow1/blob/master/%ED%9E%88%EB%93%A0%EB%A0%88%EC%9D%B4%EC%96%B4.ipynb\" target=\"_parent\"><img src=\"https://colab.research.google.com/assets/colab-badge.svg\" alt=\"Open In Colab\"/></a>"
      ]
    },
    {
      "cell_type": "markdown",
      "metadata": {
        "id": "6Q1woS1s6CTt",
        "colab_type": "text"
      },
      "source": [
        "\n",
        "# 히든레이어\n",
        "  -보스턴 집값 예측: https://raw.githubusercontent.com/blackdew/tensorflow1/master/csv/boston.csv\n",
        "\n",
        "  -아이리스 품종 분류: https://raw.githubusercontent.com/blackdew/tensorflow1/master/csv/iris.csv"
      ]
    },
    {
      "cell_type": "code",
      "metadata": {
        "id": "TjOnuchY5_Jd",
        "colab_type": "code",
        "colab": {}
      },
      "source": [
        "# 라이브러리 사용\n",
        "import tensorflow as tf\n",
        "import pandas as pd"
      ],
      "execution_count": 1,
      "outputs": []
    },
    {
      "cell_type": "markdown",
      "metadata": {
        "id": "wRI8HFfN6ROm",
        "colab_type": "text"
      },
      "source": [
        "# 보스턴 집값 예측"
      ]
    },
    {
      "cell_type": "code",
      "metadata": {
        "id": "8C0-jg1w6Opp",
        "colab_type": "code",
        "colab": {
          "base_uri": "https://localhost:8080/",
          "height": 71
        },
        "outputId": "0cfb10fc-eaf4-4e77-bd8d-8a84e9aae1bb"
      },
      "source": [
        "파일경로 = 'https://raw.githubusercontent.com/blackdew/tensorflow1/master/csv/boston.csv'\n",
        "보스턴 = pd.read_csv(파일경로)\n",
        "print(보스턴.columns)"
      ],
      "execution_count": 3,
      "outputs": [
        {
          "output_type": "stream",
          "text": [
            "Index(['crim', 'zn', 'indus', 'chas', 'nox', 'rm', 'age', 'dis', 'rad', 'tax',\n",
            "       'ptratio', 'b', 'lstat', 'medv'],\n",
            "      dtype='object')\n"
          ],
          "name": "stdout"
        }
      ]
    },
    {
      "cell_type": "code",
      "metadata": {
        "id": "BDFSqxE86eFd",
        "colab_type": "code",
        "colab": {
          "base_uri": "https://localhost:8080/",
          "height": 35
        },
        "outputId": "0985cf01-a2ff-447b-a8f1-928821046715"
      },
      "source": [
        "독립 = 보스턴[['crim', 'zn', 'indus', 'chas', 'nox', 'rm', 'age', 'dis', 'rad', 'tax',\n",
        "       'ptratio', 'b', 'lstat']] \n",
        "종속 = 보스턴[['medv']]\n",
        "\n",
        "print(독립.shape, 종속.shape)"
      ],
      "execution_count": 4,
      "outputs": [
        {
          "output_type": "stream",
          "text": [
            "(506, 13) (506, 1)\n"
          ],
          "name": "stdout"
        }
      ]
    },
    {
      "cell_type": "code",
      "metadata": {
        "id": "gvel1acE6t90",
        "colab_type": "code",
        "colab": {}
      },
      "source": [
        "X = tf.keras.layers.Input(shape=[13])\n",
        "H = tf.keras.layers.Dense(10,activation = 'swish')(X)\n",
        "Y = tf.keras.layers.Dense(1)(H)\n",
        "model = tf.keras.models.Model(X,Y)\n",
        "model.compile(loss='mse', metrics = 'accuracy')"
      ],
      "execution_count": 12,
      "outputs": []
    },
    {
      "cell_type": "code",
      "metadata": {
        "id": "gC0VcMjn-R-F",
        "colab_type": "code",
        "colab": {
          "base_uri": "https://localhost:8080/",
          "height": 269
        },
        "outputId": "5597c075-74fa-4497-8ee8-dc44f1ae88bf"
      },
      "source": [
        "model.summary()"
      ],
      "execution_count": 14,
      "outputs": [
        {
          "output_type": "stream",
          "text": [
            "Model: \"functional_5\"\n",
            "_________________________________________________________________\n",
            "Layer (type)                 Output Shape              Param #   \n",
            "=================================================================\n",
            "input_5 (InputLayer)         [(None, 13)]              0         \n",
            "_________________________________________________________________\n",
            "dense_4 (Dense)              (None, 10)                140       \n",
            "_________________________________________________________________\n",
            "dense_5 (Dense)              (None, 1)                 11        \n",
            "=================================================================\n",
            "Total params: 151\n",
            "Trainable params: 151\n",
            "Non-trainable params: 0\n",
            "_________________________________________________________________\n"
          ],
          "name": "stdout"
        }
      ]
    },
    {
      "cell_type": "code",
      "metadata": {
        "id": "ho-KcITd7CKC",
        "colab_type": "code",
        "colab": {
          "base_uri": "https://localhost:8080/",
          "height": 395
        },
        "outputId": "f61688ab-0389-4938-b8ed-ffcb29cbfcf8"
      },
      "source": [
        "model.fit(독립,종속, epochs=10000 ,verbose= 0)\n",
        "model.fit(독립,종속, epochs=10)"
      ],
      "execution_count": 13,
      "outputs": [
        {
          "output_type": "stream",
          "text": [
            "Epoch 1/10\n",
            "16/16 [==============================] - 0s 2ms/step - loss: 12.0810 - accuracy: 0.0000e+00\n",
            "Epoch 2/10\n",
            "16/16 [==============================] - 0s 1ms/step - loss: 11.9402 - accuracy: 0.0000e+00\n",
            "Epoch 3/10\n",
            "16/16 [==============================] - 0s 1ms/step - loss: 11.2498 - accuracy: 0.0000e+00\n",
            "Epoch 4/10\n",
            "16/16 [==============================] - 0s 1ms/step - loss: 12.3983 - accuracy: 0.0000e+00\n",
            "Epoch 5/10\n",
            "16/16 [==============================] - 0s 1ms/step - loss: 11.9488 - accuracy: 0.0000e+00\n",
            "Epoch 6/10\n",
            "16/16 [==============================] - 0s 1ms/step - loss: 12.0975 - accuracy: 0.0000e+00\n",
            "Epoch 7/10\n",
            "16/16 [==============================] - 0s 1ms/step - loss: 12.3609 - accuracy: 0.0000e+00\n",
            "Epoch 8/10\n",
            "16/16 [==============================] - 0s 1ms/step - loss: 11.9529 - accuracy: 0.0000e+00\n",
            "Epoch 9/10\n",
            "16/16 [==============================] - 0s 1ms/step - loss: 12.1060 - accuracy: 0.0000e+00\n",
            "Epoch 10/10\n",
            "16/16 [==============================] - 0s 1ms/step - loss: 11.6967 - accuracy: 0.0000e+00\n"
          ],
          "name": "stdout"
        },
        {
          "output_type": "execute_result",
          "data": {
            "text/plain": [
              "<tensorflow.python.keras.callbacks.History at 0x7fd3a1f19eb8>"
            ]
          },
          "metadata": {
            "tags": []
          },
          "execution_count": 13
        }
      ]
    },
    {
      "cell_type": "code",
      "metadata": {
        "id": "omEX8Mw3-IXa",
        "colab_type": "code",
        "colab": {
          "base_uri": "https://localhost:8080/",
          "height": 215
        },
        "outputId": "4a1e142f-8890-414e-ec67-5f946aeaad83"
      },
      "source": [
        "print(model.predict(독립[:5]))\n",
        "print(종속[:5])"
      ],
      "execution_count": 16,
      "outputs": [
        {
          "output_type": "stream",
          "text": [
            "[[26.035706]\n",
            " [24.514286]\n",
            " [33.153797]\n",
            " [32.427757]\n",
            " [33.56096 ]]\n",
            "   medv\n",
            "0  24.0\n",
            "1  21.6\n",
            "2  34.7\n",
            "3  33.4\n",
            "4  36.2\n"
          ],
          "name": "stdout"
        }
      ]
    },
    {
      "cell_type": "markdown",
      "metadata": {
        "id": "CgVCtSeB-9Vx",
        "colab_type": "text"
      },
      "source": [
        "# 아이리스 품종분류"
      ]
    },
    {
      "cell_type": "code",
      "metadata": {
        "id": "xnB-Q3_r7ghW",
        "colab_type": "code",
        "colab": {}
      },
      "source": [
        "파일경로 ='https://raw.githubusercontent.com/blackdew/tensorflow1/master/csv/iris.csv'\n",
        "아이리스 = pd.read_csv(파일경로)"
      ],
      "execution_count": 20,
      "outputs": []
    },
    {
      "cell_type": "code",
      "metadata": {
        "id": "1nk7-nNn_JNm",
        "colab_type": "code",
        "colab": {}
      },
      "source": [
        "아이리스 = pd.get_dummies(아이리스)"
      ],
      "execution_count": 21,
      "outputs": []
    },
    {
      "cell_type": "code",
      "metadata": {
        "id": "QDIgwJNr_UT2",
        "colab_type": "code",
        "colab": {
          "base_uri": "https://localhost:8080/",
          "height": 71
        },
        "outputId": "5ea5e5a1-b191-4964-88e5-9f681c48a25a"
      },
      "source": [
        "print(아이리스.columns)"
      ],
      "execution_count": 22,
      "outputs": [
        {
          "output_type": "stream",
          "text": [
            "Index(['꽃잎길이', '꽃잎폭', '꽃받침길이', '꽃받침폭', '품종_setosa', '품종_versicolor',\n",
            "       '품종_virginica'],\n",
            "      dtype='object')\n"
          ],
          "name": "stdout"
        }
      ]
    },
    {
      "cell_type": "code",
      "metadata": {
        "id": "EyVMZvEX_YPk",
        "colab_type": "code",
        "colab": {
          "base_uri": "https://localhost:8080/",
          "height": 35
        },
        "outputId": "75ebc758-89ba-44d8-c221-a4a2776ed15a"
      },
      "source": [
        "독립 = 아이리스[['꽃잎길이', '꽃잎폭', '꽃받침길이', '꽃받침폭']] \n",
        "종속 = 아이리스[['품종_setosa', '품종_versicolor',\n",
        "       '품종_virginica']]\n",
        "print(독립.shape , 종속.shape)"
      ],
      "execution_count": 23,
      "outputs": [
        {
          "output_type": "stream",
          "text": [
            "(150, 4) (150, 3)\n"
          ],
          "name": "stdout"
        }
      ]
    },
    {
      "cell_type": "code",
      "metadata": {
        "id": "eZ4ILgGHAsjK",
        "colab_type": "code",
        "colab": {}
      },
      "source": [
        "X = tf.keras.layers.Input(shape=[4])\n",
        "H = tf.keras.layers.Dense(5,activation = \"swish\")(X)\n",
        "H = tf.keras.layers.Dense(5,activation = \"swish\")(H)\n",
        "H = tf.keras.layers.Dense(5,activation = \"swish\")(H)\n",
        "Y = tf.keras.layers.Dense(3, activation='softmax')(H)\n",
        "model = tf.keras.models.Model(X,Y)\n",
        "model.compile(loss='categorical_crossentropy',\n",
        "              metrics='accuracy')"
      ],
      "execution_count": 24,
      "outputs": []
    },
    {
      "cell_type": "code",
      "metadata": {
        "id": "HuQpJZDQCCoW",
        "colab_type": "code",
        "colab": {}
      },
      "source": [
        "model.fit(독립,종속, epochs= 100)"
      ],
      "execution_count": null,
      "outputs": []
    },
    {
      "cell_type": "code",
      "metadata": {
        "id": "ArFD25tOCIm-",
        "colab_type": "code",
        "colab": {
          "base_uri": "https://localhost:8080/",
          "height": 107
        },
        "outputId": "a090b228-0e74-49b8-e896-1c78180a3377"
      },
      "source": [
        "print(model.predict(독립[0:5]))"
      ],
      "execution_count": 26,
      "outputs": [
        {
          "output_type": "stream",
          "text": [
            "[[0.64891374 0.26264608 0.08844023]\n",
            " [0.65962964 0.25856945 0.08180089]\n",
            " [0.6598592  0.24565504 0.09448578]\n",
            " [0.6632623  0.25177807 0.08495965]\n",
            " [0.64800316 0.258954   0.09304279]]\n"
          ],
          "name": "stdout"
        }
      ]
    },
    {
      "cell_type": "code",
      "metadata": {
        "id": "-ErOnvH-CQOs",
        "colab_type": "code",
        "colab": {
          "base_uri": "https://localhost:8080/",
          "height": 125
        },
        "outputId": "8e385003-fb70-4829-c346-8fa685d55bf9"
      },
      "source": [
        "print(종속[0:5])"
      ],
      "execution_count": 27,
      "outputs": [
        {
          "output_type": "stream",
          "text": [
            "   품종_setosa  품종_versicolor  품종_virginica\n",
            "0          1              0             0\n",
            "1          1              0             0\n",
            "2          1              0             0\n",
            "3          1              0             0\n",
            "4          1              0             0\n"
          ],
          "name": "stdout"
        }
      ]
    },
    {
      "cell_type": "code",
      "metadata": {
        "id": "U8iJmNFBCSnN",
        "colab_type": "code",
        "colab": {}
      },
      "source": [
        ""
      ],
      "execution_count": null,
      "outputs": []
    }
  ]
}