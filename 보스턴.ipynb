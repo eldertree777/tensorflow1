{
  "nbformat": 4,
  "nbformat_minor": 0,
  "metadata": {
    "colab": {
      "name": "보스턴.ipynb",
      "provenance": [],
      "collapsed_sections": [],
      "toc_visible": true,
      "authorship_tag": "ABX9TyMpOaGO2NwPRptArCK/1S2h",
      "include_colab_link": true
    },
    "kernelspec": {
      "name": "python3",
      "display_name": "Python 3"
    }
  },
  "cells": [
    {
      "cell_type": "markdown",
      "metadata": {
        "id": "view-in-github",
        "colab_type": "text"
      },
      "source": [
        "<a href=\"https://colab.research.google.com/github/eldertree777/tensorflow1/blob/master/%EB%B3%B4%EC%8A%A4%ED%84%B4.ipynb\" target=\"_parent\"><img src=\"https://colab.research.google.com/assets/colab-badge.svg\" alt=\"Open In Colab\"/></a>"
      ]
    },
    {
      "cell_type": "markdown",
      "metadata": {
        "id": "SuDrVmt5CVIB",
        "colab_type": "text"
      },
      "source": [
        "# 보스턴 집값 예측\n",
        "  - github csv url: https://raw.githubusercontent.com/blackdew/tensorflow1/master/csv/boston.csv"
      ]
    },
    {
      "cell_type": "code",
      "metadata": {
        "id": "V5Ph_MKZCUzS",
        "colab_type": "code",
        "colab": {}
      },
      "source": [
        "# 라이브러리 사용\n",
        "\n",
        "import tensorflow as tf\n",
        "import pandas as pd"
      ],
      "execution_count": 1,
      "outputs": []
    },
    {
      "cell_type": "code",
      "metadata": {
        "id": "QSYPilav_T27",
        "colab_type": "code",
        "colab": {
          "base_uri": "https://localhost:8080/",
          "height": 258
        },
        "outputId": "faa2d814-d6ec-42ea-cbc7-ca5e4c67babd"
      },
      "source": [
        "#\n",
        "파일경로 = '/content/boston.csv'\n",
        "보스턴 = pd.read_csv(파일경로)\n",
        "print(보스턴.columns)\n",
        "보스턴.head()"
      ],
      "execution_count": 23,
      "outputs": [
        {
          "output_type": "stream",
          "text": [
            "Index(['crim', 'zn', 'indus', 'chas', 'nox', 'rm', 'age', 'dis', 'rad', 'tax',\n",
            "       'ptratio', 'b', 'lstat', 'medv'],\n",
            "      dtype='object')\n"
          ],
          "name": "stdout"
        },
        {
          "output_type": "execute_result",
          "data": {
            "text/html": [
              "<div>\n",
              "<style scoped>\n",
              "    .dataframe tbody tr th:only-of-type {\n",
              "        vertical-align: middle;\n",
              "    }\n",
              "\n",
              "    .dataframe tbody tr th {\n",
              "        vertical-align: top;\n",
              "    }\n",
              "\n",
              "    .dataframe thead th {\n",
              "        text-align: right;\n",
              "    }\n",
              "</style>\n",
              "<table border=\"1\" class=\"dataframe\">\n",
              "  <thead>\n",
              "    <tr style=\"text-align: right;\">\n",
              "      <th></th>\n",
              "      <th>crim</th>\n",
              "      <th>zn</th>\n",
              "      <th>indus</th>\n",
              "      <th>chas</th>\n",
              "      <th>nox</th>\n",
              "      <th>rm</th>\n",
              "      <th>age</th>\n",
              "      <th>dis</th>\n",
              "      <th>rad</th>\n",
              "      <th>tax</th>\n",
              "      <th>ptratio</th>\n",
              "      <th>b</th>\n",
              "      <th>lstat</th>\n",
              "      <th>medv</th>\n",
              "    </tr>\n",
              "  </thead>\n",
              "  <tbody>\n",
              "    <tr>\n",
              "      <th>0</th>\n",
              "      <td>0.00632</td>\n",
              "      <td>18.0</td>\n",
              "      <td>2.31</td>\n",
              "      <td>0</td>\n",
              "      <td>0.538</td>\n",
              "      <td>6.575</td>\n",
              "      <td>65.2</td>\n",
              "      <td>4.0900</td>\n",
              "      <td>1</td>\n",
              "      <td>296</td>\n",
              "      <td>15.3</td>\n",
              "      <td>396.90</td>\n",
              "      <td>4.98</td>\n",
              "      <td>24.0</td>\n",
              "    </tr>\n",
              "    <tr>\n",
              "      <th>1</th>\n",
              "      <td>0.02731</td>\n",
              "      <td>0.0</td>\n",
              "      <td>7.07</td>\n",
              "      <td>0</td>\n",
              "      <td>0.469</td>\n",
              "      <td>6.421</td>\n",
              "      <td>78.9</td>\n",
              "      <td>4.9671</td>\n",
              "      <td>2</td>\n",
              "      <td>242</td>\n",
              "      <td>17.8</td>\n",
              "      <td>396.90</td>\n",
              "      <td>9.14</td>\n",
              "      <td>21.6</td>\n",
              "    </tr>\n",
              "    <tr>\n",
              "      <th>2</th>\n",
              "      <td>0.02729</td>\n",
              "      <td>0.0</td>\n",
              "      <td>7.07</td>\n",
              "      <td>0</td>\n",
              "      <td>0.469</td>\n",
              "      <td>7.185</td>\n",
              "      <td>61.1</td>\n",
              "      <td>4.9671</td>\n",
              "      <td>2</td>\n",
              "      <td>242</td>\n",
              "      <td>17.8</td>\n",
              "      <td>392.83</td>\n",
              "      <td>4.03</td>\n",
              "      <td>34.7</td>\n",
              "    </tr>\n",
              "    <tr>\n",
              "      <th>3</th>\n",
              "      <td>0.03237</td>\n",
              "      <td>0.0</td>\n",
              "      <td>2.18</td>\n",
              "      <td>0</td>\n",
              "      <td>0.458</td>\n",
              "      <td>6.998</td>\n",
              "      <td>45.8</td>\n",
              "      <td>6.0622</td>\n",
              "      <td>3</td>\n",
              "      <td>222</td>\n",
              "      <td>18.7</td>\n",
              "      <td>394.63</td>\n",
              "      <td>2.94</td>\n",
              "      <td>33.4</td>\n",
              "    </tr>\n",
              "    <tr>\n",
              "      <th>4</th>\n",
              "      <td>0.06905</td>\n",
              "      <td>0.0</td>\n",
              "      <td>2.18</td>\n",
              "      <td>0</td>\n",
              "      <td>0.458</td>\n",
              "      <td>7.147</td>\n",
              "      <td>54.2</td>\n",
              "      <td>6.0622</td>\n",
              "      <td>3</td>\n",
              "      <td>222</td>\n",
              "      <td>18.7</td>\n",
              "      <td>396.90</td>\n",
              "      <td>5.33</td>\n",
              "      <td>36.2</td>\n",
              "    </tr>\n",
              "  </tbody>\n",
              "</table>\n",
              "</div>"
            ],
            "text/plain": [
              "      crim    zn  indus  chas    nox  ...  tax  ptratio       b  lstat  medv\n",
              "0  0.00632  18.0   2.31     0  0.538  ...  296     15.3  396.90   4.98  24.0\n",
              "1  0.02731   0.0   7.07     0  0.469  ...  242     17.8  396.90   9.14  21.6\n",
              "2  0.02729   0.0   7.07     0  0.469  ...  242     17.8  392.83   4.03  34.7\n",
              "3  0.03237   0.0   2.18     0  0.458  ...  222     18.7  394.63   2.94  33.4\n",
              "4  0.06905   0.0   2.18     0  0.458  ...  222     18.7  396.90   5.33  36.2\n",
              "\n",
              "[5 rows x 14 columns]"
            ]
          },
          "metadata": {
            "tags": []
          },
          "execution_count": 23
        }
      ]
    },
    {
      "cell_type": "code",
      "metadata": {
        "id": "J8XguwfrCykf",
        "colab_type": "code",
        "colab": {
          "base_uri": "https://localhost:8080/",
          "height": 35
        },
        "outputId": "81e973f9-4eea-4b0a-e516-0a778733543b"
      },
      "source": [
        "# 독립,종속 분리\n",
        "독립 = 보스턴[['crim', 'zn', 'indus', 'chas', 'nox', 'rm', 'age', 'dis', 'rad', 'tax',\n",
        "       'ptratio', 'b', 'lstat']]\n",
        "종속 = 보스턴[['medv']]\n",
        "print(독립.shape , 종속.shape)"
      ],
      "execution_count": 5,
      "outputs": [
        {
          "output_type": "stream",
          "text": [
            "(506, 13) (506, 1)\n"
          ],
          "name": "stdout"
        }
      ]
    },
    {
      "cell_type": "code",
      "metadata": {
        "id": "HNAV1WCVDLlZ",
        "colab_type": "code",
        "colab": {}
      },
      "source": [
        "# 모델 구조 만들기\n",
        "x = tf.keras.layers.Input(shape = [13])\n",
        "y = tf.keras.layers.Dense(1)(x)\n",
        "model = tf.keras.models.Model(x,y)\n",
        "model.compile(loss='mse')"
      ],
      "execution_count": 7,
      "outputs": []
    },
    {
      "cell_type": "code",
      "metadata": {
        "id": "kULgswpcDl-Z",
        "colab_type": "code",
        "colab": {
          "base_uri": "https://localhost:8080/",
          "height": 1000
        },
        "outputId": "46da8a3f-6852-48b6-93b1-f45bfb43e074"
      },
      "source": [
        "# 데이터로 학습Fit 하기\n",
        "model.fit(독립,종속, epochs=100 , verbose=1)"
      ],
      "execution_count": 17,
      "outputs": [
        {
          "output_type": "stream",
          "text": [
            "Epoch 1/100\n",
            " 1/16 [>.............................] - ETA: 0s - loss: 15.9726WARNING:tensorflow:Callbacks method `on_train_batch_end` is slow compared to the batch time (batch time: 0.0009s vs `on_train_batch_end` time: 0.0017s). Check your callbacks.\n",
            "16/16 [==============================] - 0s 1ms/step - loss: 23.8274\n",
            "Epoch 2/100\n",
            "16/16 [==============================] - 0s 1ms/step - loss: 24.1211\n",
            "Epoch 3/100\n",
            "16/16 [==============================] - 0s 1ms/step - loss: 24.0008\n",
            "Epoch 4/100\n",
            "16/16 [==============================] - 0s 1ms/step - loss: 23.5981\n",
            "Epoch 5/100\n",
            "16/16 [==============================] - 0s 1ms/step - loss: 24.2618\n",
            "Epoch 6/100\n",
            "16/16 [==============================] - 0s 943us/step - loss: 23.7372\n",
            "Epoch 7/100\n",
            "16/16 [==============================] - 0s 924us/step - loss: 24.1002\n",
            "Epoch 8/100\n",
            "16/16 [==============================] - 0s 979us/step - loss: 24.1502\n",
            "Epoch 9/100\n",
            "16/16 [==============================] - 0s 1ms/step - loss: 23.6119\n",
            "Epoch 10/100\n",
            "16/16 [==============================] - 0s 907us/step - loss: 24.0924\n",
            "Epoch 11/100\n",
            "16/16 [==============================] - 0s 925us/step - loss: 23.5971\n",
            "Epoch 12/100\n",
            "16/16 [==============================] - 0s 937us/step - loss: 23.7050\n",
            "Epoch 13/100\n",
            "16/16 [==============================] - 0s 978us/step - loss: 24.3312\n",
            "Epoch 14/100\n",
            "16/16 [==============================] - 0s 1ms/step - loss: 24.0464\n",
            "Epoch 15/100\n",
            "16/16 [==============================] - 0s 976us/step - loss: 23.3281\n",
            "Epoch 16/100\n",
            "16/16 [==============================] - 0s 981us/step - loss: 24.0746\n",
            "Epoch 17/100\n",
            "16/16 [==============================] - 0s 925us/step - loss: 23.6422\n",
            "Epoch 18/100\n",
            "16/16 [==============================] - 0s 927us/step - loss: 24.3747\n",
            "Epoch 19/100\n",
            "16/16 [==============================] - 0s 970us/step - loss: 23.7858\n",
            "Epoch 20/100\n",
            "16/16 [==============================] - 0s 961us/step - loss: 23.9763\n",
            "Epoch 21/100\n",
            "16/16 [==============================] - 0s 910us/step - loss: 23.6821\n",
            "Epoch 22/100\n",
            "16/16 [==============================] - 0s 988us/step - loss: 23.9497\n",
            "Epoch 23/100\n",
            "16/16 [==============================] - 0s 949us/step - loss: 23.8027\n",
            "Epoch 24/100\n",
            "16/16 [==============================] - 0s 1ms/step - loss: 23.9017\n",
            "Epoch 25/100\n",
            "16/16 [==============================] - 0s 970us/step - loss: 23.8909\n",
            "Epoch 26/100\n",
            "16/16 [==============================] - 0s 942us/step - loss: 23.7177\n",
            "Epoch 27/100\n",
            "16/16 [==============================] - 0s 1ms/step - loss: 23.5342\n",
            "Epoch 28/100\n",
            "16/16 [==============================] - 0s 921us/step - loss: 23.6685\n",
            "Epoch 29/100\n",
            "16/16 [==============================] - 0s 866us/step - loss: 24.2264\n",
            "Epoch 30/100\n",
            "16/16 [==============================] - 0s 991us/step - loss: 23.7152\n",
            "Epoch 31/100\n",
            "16/16 [==============================] - 0s 871us/step - loss: 23.9586\n",
            "Epoch 32/100\n",
            "16/16 [==============================] - 0s 969us/step - loss: 24.1996\n",
            "Epoch 33/100\n",
            "16/16 [==============================] - 0s 1ms/step - loss: 24.0037\n",
            "Epoch 34/100\n",
            "16/16 [==============================] - 0s 1ms/step - loss: 23.5658\n",
            "Epoch 35/100\n",
            "16/16 [==============================] - 0s 1ms/step - loss: 23.6907\n",
            "Epoch 36/100\n",
            "16/16 [==============================] - 0s 973us/step - loss: 23.8432\n",
            "Epoch 37/100\n",
            "16/16 [==============================] - 0s 947us/step - loss: 24.3115\n",
            "Epoch 38/100\n",
            "16/16 [==============================] - 0s 945us/step - loss: 24.2764\n",
            "Epoch 39/100\n",
            "16/16 [==============================] - 0s 945us/step - loss: 23.6528\n",
            "Epoch 40/100\n",
            "16/16 [==============================] - 0s 1ms/step - loss: 23.9301\n",
            "Epoch 41/100\n",
            "16/16 [==============================] - 0s 986us/step - loss: 23.6138\n",
            "Epoch 42/100\n",
            "16/16 [==============================] - 0s 1ms/step - loss: 24.3855\n",
            "Epoch 43/100\n",
            "16/16 [==============================] - 0s 1ms/step - loss: 23.3719\n",
            "Epoch 44/100\n",
            "16/16 [==============================] - 0s 1ms/step - loss: 24.1252\n",
            "Epoch 45/100\n",
            "16/16 [==============================] - 0s 885us/step - loss: 24.0843\n",
            "Epoch 46/100\n",
            "16/16 [==============================] - 0s 1ms/step - loss: 23.7841\n",
            "Epoch 47/100\n",
            "16/16 [==============================] - 0s 904us/step - loss: 24.0020\n",
            "Epoch 48/100\n",
            "16/16 [==============================] - 0s 951us/step - loss: 23.9625\n",
            "Epoch 49/100\n",
            "16/16 [==============================] - 0s 1ms/step - loss: 24.0580\n",
            "Epoch 50/100\n",
            "16/16 [==============================] - 0s 954us/step - loss: 23.8884\n",
            "Epoch 51/100\n",
            "16/16 [==============================] - 0s 1ms/step - loss: 23.6694\n",
            "Epoch 52/100\n",
            "16/16 [==============================] - 0s 885us/step - loss: 24.1895\n",
            "Epoch 53/100\n",
            "16/16 [==============================] - 0s 969us/step - loss: 24.3924\n",
            "Epoch 54/100\n",
            "16/16 [==============================] - 0s 1ms/step - loss: 23.2617\n",
            "Epoch 55/100\n",
            "16/16 [==============================] - 0s 1ms/step - loss: 24.0693\n",
            "Epoch 56/100\n",
            "16/16 [==============================] - 0s 1ms/step - loss: 24.0437\n",
            "Epoch 57/100\n",
            "16/16 [==============================] - 0s 1ms/step - loss: 23.6208\n",
            "Epoch 58/100\n",
            "16/16 [==============================] - 0s 951us/step - loss: 23.9229\n",
            "Epoch 59/100\n",
            "16/16 [==============================] - 0s 1ms/step - loss: 23.7204\n",
            "Epoch 60/100\n",
            "16/16 [==============================] - 0s 1ms/step - loss: 24.3543\n",
            "Epoch 61/100\n",
            "16/16 [==============================] - 0s 974us/step - loss: 23.7177\n",
            "Epoch 62/100\n",
            "16/16 [==============================] - 0s 1ms/step - loss: 23.9167\n",
            "Epoch 63/100\n",
            "16/16 [==============================] - 0s 965us/step - loss: 24.1109\n",
            "Epoch 64/100\n",
            "16/16 [==============================] - 0s 1ms/step - loss: 24.2191\n",
            "Epoch 65/100\n",
            "16/16 [==============================] - 0s 976us/step - loss: 24.4448\n",
            "Epoch 66/100\n",
            "16/16 [==============================] - 0s 975us/step - loss: 23.8066\n",
            "Epoch 67/100\n",
            "16/16 [==============================] - 0s 1ms/step - loss: 23.6359\n",
            "Epoch 68/100\n",
            "16/16 [==============================] - 0s 1ms/step - loss: 23.7146\n",
            "Epoch 69/100\n",
            "16/16 [==============================] - 0s 1ms/step - loss: 23.6495\n",
            "Epoch 70/100\n",
            "16/16 [==============================] - 0s 1ms/step - loss: 24.0671\n",
            "Epoch 71/100\n",
            "16/16 [==============================] - 0s 1ms/step - loss: 24.1595\n",
            "Epoch 72/100\n",
            "16/16 [==============================] - 0s 1ms/step - loss: 23.8958\n",
            "Epoch 73/100\n",
            "16/16 [==============================] - 0s 1ms/step - loss: 24.1496\n",
            "Epoch 74/100\n",
            "16/16 [==============================] - 0s 1ms/step - loss: 23.8424\n",
            "Epoch 75/100\n",
            "16/16 [==============================] - 0s 1ms/step - loss: 24.0151\n",
            "Epoch 76/100\n",
            "16/16 [==============================] - 0s 1ms/step - loss: 23.9848\n",
            "Epoch 77/100\n",
            "16/16 [==============================] - 0s 1ms/step - loss: 23.7666\n",
            "Epoch 78/100\n",
            "16/16 [==============================] - 0s 1ms/step - loss: 23.8793\n",
            "Epoch 79/100\n",
            "16/16 [==============================] - 0s 1ms/step - loss: 24.0817\n",
            "Epoch 80/100\n",
            "16/16 [==============================] - 0s 1ms/step - loss: 24.0378\n",
            "Epoch 81/100\n",
            "16/16 [==============================] - 0s 1ms/step - loss: 24.1362\n",
            "Epoch 82/100\n",
            "16/16 [==============================] - 0s 1ms/step - loss: 23.3623\n",
            "Epoch 83/100\n",
            "16/16 [==============================] - 0s 1ms/step - loss: 23.8416\n",
            "Epoch 84/100\n",
            "16/16 [==============================] - 0s 1ms/step - loss: 24.0256\n",
            "Epoch 85/100\n",
            "16/16 [==============================] - 0s 1ms/step - loss: 23.8274\n",
            "Epoch 86/100\n",
            "16/16 [==============================] - 0s 1ms/step - loss: 24.0310\n",
            "Epoch 87/100\n",
            "16/16 [==============================] - 0s 980us/step - loss: 23.5821\n",
            "Epoch 88/100\n",
            "16/16 [==============================] - 0s 978us/step - loss: 23.6032\n",
            "Epoch 89/100\n",
            "16/16 [==============================] - 0s 1ms/step - loss: 23.5601\n",
            "Epoch 90/100\n",
            "16/16 [==============================] - 0s 1ms/step - loss: 24.2697\n",
            "Epoch 91/100\n",
            "16/16 [==============================] - 0s 1ms/step - loss: 23.7835\n",
            "Epoch 92/100\n",
            "16/16 [==============================] - 0s 897us/step - loss: 23.1893\n",
            "Epoch 93/100\n",
            "16/16 [==============================] - 0s 1ms/step - loss: 24.6210\n",
            "Epoch 94/100\n",
            "16/16 [==============================] - 0s 1ms/step - loss: 23.5073\n",
            "Epoch 95/100\n",
            "16/16 [==============================] - 0s 2ms/step - loss: 23.9097\n",
            "Epoch 96/100\n",
            "16/16 [==============================] - 0s 963us/step - loss: 23.6774\n",
            "Epoch 97/100\n",
            "16/16 [==============================] - 0s 1ms/step - loss: 23.8355\n",
            "Epoch 98/100\n",
            "16/16 [==============================] - 0s 1ms/step - loss: 24.1735\n",
            "Epoch 99/100\n",
            "16/16 [==============================] - 0s 1ms/step - loss: 23.7614\n",
            "Epoch 100/100\n",
            "16/16 [==============================] - 0s 1ms/step - loss: 24.0277\n"
          ],
          "name": "stdout"
        },
        {
          "output_type": "execute_result",
          "data": {
            "text/plain": [
              "<tensorflow.python.keras.callbacks.History at 0x7f4d7ae50978>"
            ]
          },
          "metadata": {
            "tags": []
          },
          "execution_count": 17
        }
      ]
    },
    {
      "cell_type": "code",
      "metadata": {
        "id": "WuWVLp1zD2Gk",
        "colab_type": "code",
        "colab": {
          "base_uri": "https://localhost:8080/",
          "height": 197
        },
        "outputId": "3187ef50-5983-43bd-958c-a2de8bcffe08"
      },
      "source": [
        "# 모델 이용하기\n",
        "model.predict(독립[0:10])"
      ],
      "execution_count": 20,
      "outputs": [
        {
          "output_type": "execute_result",
          "data": {
            "text/plain": [
              "array([[29.314957],\n",
              "       [24.210398],\n",
              "       [30.717104],\n",
              "       [29.318352],\n",
              "       [28.929361],\n",
              "       [25.14714 ],\n",
              "       [21.668911],\n",
              "       [18.67623 ],\n",
              "       [10.532044],\n",
              "       [18.031498]], dtype=float32)"
            ]
          },
          "metadata": {
            "tags": []
          },
          "execution_count": 20
        }
      ]
    },
    {
      "cell_type": "code",
      "metadata": {
        "id": "62-cIo-jHB10",
        "colab_type": "code",
        "colab": {
          "base_uri": "https://localhost:8080/",
          "height": 359
        },
        "outputId": "b569208d-fac7-493d-b758-e51b7d2b04d7"
      },
      "source": [
        "종속[0:10]"
      ],
      "execution_count": 21,
      "outputs": [
        {
          "output_type": "execute_result",
          "data": {
            "text/html": [
              "<div>\n",
              "<style scoped>\n",
              "    .dataframe tbody tr th:only-of-type {\n",
              "        vertical-align: middle;\n",
              "    }\n",
              "\n",
              "    .dataframe tbody tr th {\n",
              "        vertical-align: top;\n",
              "    }\n",
              "\n",
              "    .dataframe thead th {\n",
              "        text-align: right;\n",
              "    }\n",
              "</style>\n",
              "<table border=\"1\" class=\"dataframe\">\n",
              "  <thead>\n",
              "    <tr style=\"text-align: right;\">\n",
              "      <th></th>\n",
              "      <th>medv</th>\n",
              "    </tr>\n",
              "  </thead>\n",
              "  <tbody>\n",
              "    <tr>\n",
              "      <th>0</th>\n",
              "      <td>24.0</td>\n",
              "    </tr>\n",
              "    <tr>\n",
              "      <th>1</th>\n",
              "      <td>21.6</td>\n",
              "    </tr>\n",
              "    <tr>\n",
              "      <th>2</th>\n",
              "      <td>34.7</td>\n",
              "    </tr>\n",
              "    <tr>\n",
              "      <th>3</th>\n",
              "      <td>33.4</td>\n",
              "    </tr>\n",
              "    <tr>\n",
              "      <th>4</th>\n",
              "      <td>36.2</td>\n",
              "    </tr>\n",
              "    <tr>\n",
              "      <th>5</th>\n",
              "      <td>28.7</td>\n",
              "    </tr>\n",
              "    <tr>\n",
              "      <th>6</th>\n",
              "      <td>22.9</td>\n",
              "    </tr>\n",
              "    <tr>\n",
              "      <th>7</th>\n",
              "      <td>27.1</td>\n",
              "    </tr>\n",
              "    <tr>\n",
              "      <th>8</th>\n",
              "      <td>16.5</td>\n",
              "    </tr>\n",
              "    <tr>\n",
              "      <th>9</th>\n",
              "      <td>18.9</td>\n",
              "    </tr>\n",
              "  </tbody>\n",
              "</table>\n",
              "</div>"
            ],
            "text/plain": [
              "   medv\n",
              "0  24.0\n",
              "1  21.6\n",
              "2  34.7\n",
              "3  33.4\n",
              "4  36.2\n",
              "5  28.7\n",
              "6  22.9\n",
              "7  27.1\n",
              "8  16.5\n",
              "9  18.9"
            ]
          },
          "metadata": {
            "tags": []
          },
          "execution_count": 21
        }
      ]
    },
    {
      "cell_type": "code",
      "metadata": {
        "id": "UMZ8J7KbHES1",
        "colab_type": "code",
        "colab": {
          "base_uri": "https://localhost:8080/",
          "height": 251
        },
        "outputId": "8c153955-5640-4d17-a809-e902952d1fb2"
      },
      "source": [
        "# 모델의 수식 확인\n",
        "model.get_weights()"
      ],
      "execution_count": 22,
      "outputs": [
        {
          "output_type": "execute_result",
          "data": {
            "text/plain": [
              "[array([[-0.09684576],\n",
              "        [ 0.04791388],\n",
              "        [-0.01827057],\n",
              "        [ 2.6474595 ],\n",
              "        [-2.7424092 ],\n",
              "        [ 5.2415147 ],\n",
              "        [-0.010649  ],\n",
              "        [-1.0737647 ],\n",
              "        [ 0.20290352],\n",
              "        [-0.01115606],\n",
              "        [-0.53112984],\n",
              "        [ 0.01275559],\n",
              "        [-0.46272984]], dtype=float32), array([9.061071], dtype=float32)]"
            ]
          },
          "metadata": {
            "tags": []
          },
          "execution_count": 22
        }
      ]
    },
    {
      "cell_type": "code",
      "metadata": {
        "id": "WFSORqkzNIZ2",
        "colab_type": "code",
        "colab": {}
      },
      "source": [
        ""
      ],
      "execution_count": null,
      "outputs": []
    }
  ]
}